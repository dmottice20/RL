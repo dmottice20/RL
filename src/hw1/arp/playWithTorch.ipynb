{
 "cells": [
  {
   "cell_type": "code",
   "execution_count": 1,
   "metadata": {},
   "outputs": [],
   "source": [
    "# Install required pacakges.\n",
    "import torch as to\n",
    "import numpy as np\n",
    "import pandas as pd\n",
    "import tqdm as tqdm"
   ]
  },
  {
   "cell_type": "code",
   "execution_count": 2,
   "metadata": {},
   "outputs": [
    {
     "data": {
      "text/plain": [
       "tensor(indices=tensor([[0, 1, 1],\n",
       "                       [2, 0, 2]]),\n",
       "       values=tensor([3, 4, 5]),\n",
       "       size=(2, 3), nnz=3, layout=torch.sparse_coo)"
      ]
     },
     "execution_count": 2,
     "metadata": {},
     "output_type": "execute_result"
    }
   ],
   "source": [
    "# Test out Sparse matrices.\n",
    "i = [[0, 1, 1],\n",
    "       [2, 0, 2]]\n",
    "v = [3, 4, 5]\n",
    "s = to.sparse_coo_tensor(i, v, (2, 3))\n",
    "s"
   ]
  },
  {
   "cell_type": "code",
   "execution_count": 3,
   "metadata": {},
   "outputs": [
    {
     "data": {
      "text/plain": [
       "tensor([[0, 0, 3],\n",
       "        [4, 0, 5]])"
      ]
     },
     "execution_count": 3,
     "metadata": {},
     "output_type": "execute_result"
    }
   ],
   "source": [
    "s.to_dense()"
   ]
  },
  {
   "cell_type": "code",
   "execution_count": 4,
   "metadata": {},
   "outputs": [
    {
     "data": {
      "text/plain": [
       "tensor([[0, 1, 1],\n",
       "        [2, 0, 2]])"
      ]
     },
     "execution_count": 4,
     "metadata": {},
     "output_type": "execute_result"
    }
   ],
   "source": [
    "s2 = s.coalesce()\n",
    "s2.indices()"
   ]
  },
  {
   "cell_type": "markdown",
   "metadata": {},
   "source": [
    "## ARP Build"
   ]
  },
  {
   "cell_type": "code",
   "execution_count": 5,
   "metadata": {},
   "outputs": [
    {
     "name": "stdout",
     "output_type": "stream",
     "text": [
      "The shape of this loaded data is... torch.Size([3650, 4])\n"
     ]
    }
   ],
   "source": [
    "# Building the sparse transition matrix.\n",
    "# Start with action == 1\n",
    "M = 3650\n",
    "S = to.arange(1, M + 1)\n",
    "A = to.arange(1, M + 1 + 1)\n",
    "data = to.as_tensor(pd.read_csv('data/ARP_3650_data.csv').values)\n",
    "print(\"The shape of this loaded data is...\", data.shape)\n",
    "c, v, o, p = to.hsplit(data, 4)"
   ]
  },
  {
   "cell_type": "code",
   "execution_count": 6,
   "metadata": {},
   "outputs": [],
   "source": [
    "card_s = len(S)\n",
    "card_a = len(A)"
   ]
  },
  {
   "cell_type": "code",
   "execution_count": 7,
   "metadata": {},
   "outputs": [
    {
     "data": {
      "text/plain": [
       "torch.Size([2, 7300])"
      ]
     },
     "execution_count": 7,
     "metadata": {},
     "output_type": "execute_result"
    }
   ],
   "source": [
    "# the specified elements are two a row except for the last two\n",
    "# columns: S = M, J = M ==> 1\n",
    "#          S = M -1, J = M ==> 1\n",
    "# Therefore, indices will be of size (M, 2)\n",
    "indices = to.zeros(2, 2*3650)\n",
    "indices.shape"
   ]
  },
  {
   "cell_type": "code",
   "execution_count": 8,
   "metadata": {},
   "outputs": [
    {
     "name": "stdout",
     "output_type": "stream",
     "text": [
      "Number of CPUs available: 8\n",
      "Number of CPUs to be used: 6\n"
     ]
    }
   ],
   "source": [
    "print('Number of CPUs available:', to.get_num_threads())\n",
    "print('Number of CPUs to be used:', to.get_num_threads() - 2)"
   ]
  },
  {
   "cell_type": "code",
   "execution_count": 9,
   "metadata": {},
   "outputs": [
    {
     "data": {
      "text/plain": [
       "tensor([[0., 1., 2.,  ..., 0., 0., 0.],\n",
       "        [1., 2., 3.,  ..., 0., 0., 0.]])"
      ]
     },
     "execution_count": 9,
     "metadata": {},
     "output_type": "execute_result"
    }
   ],
   "source": [
    "for s in S:\n",
    "    if s < M - 1:\n",
    "        indices[0, s - 1] = s - 1\n",
    "        indices[1, s - 1] = s\n",
    "    elif s == M - 1:\n",
    "        indices[0, s - 1] = M - 1 - 1\n",
    "        indices[1, s - 1] = M - 1\n",
    "    elif s == M:\n",
    "        indices[0, s - 1] = M - 1\n",
    "        indices[1, s - 1] = M - 1\n",
    "\n",
    "indices"
   ]
  },
  {
   "cell_type": "code",
   "execution_count": 10,
   "metadata": {},
   "outputs": [
    {
     "data": {
      "text/plain": [
       "tensor([[0.0000e+00, 1.0000e+00, 2.0000e+00,  ..., 3.6470e+03, 3.6480e+03,\n",
       "         3.6490e+03],\n",
       "        [1.0000e+00, 2.0000e+00, 3.0000e+00,  ..., 3.6490e+03, 3.6490e+03,\n",
       "         3.6490e+03]])"
      ]
     },
     "execution_count": 10,
     "metadata": {},
     "output_type": "execute_result"
    }
   ],
   "source": [
    "for s in S:\n",
    "    if s < M:\n",
    "        indices[0, s + 3650 - 1] = s - 1\n",
    "        indices[1, s + 3650 - 1] = M - 1\n",
    "    else:\n",
    "        indices[0, M + 3650 - 1] = s - 1\n",
    "        indices[1, M + 3650 - 1] = M - 1\n",
    "\n",
    "indices"
   ]
  },
  {
   "cell_type": "code",
   "execution_count": 11,
   "metadata": {},
   "outputs": [
    {
     "data": {
      "text/plain": [
       "tensor([[   0,    1,    2,  ..., 3647, 3648, 3649],\n",
       "        [   1,    2,    3,  ..., 3649, 3649, 3649]], dtype=torch.int32)"
      ]
     },
     "execution_count": 11,
     "metadata": {},
     "output_type": "execute_result"
    }
   ],
   "source": [
    "indices = indices.type(to.IntTensor)\n",
    "indices"
   ]
  },
  {
   "cell_type": "code",
   "execution_count": 12,
   "metadata": {},
   "outputs": [
    {
     "data": {
      "text/plain": [
       "tensor([[3645, 3646, 3647, 3648, 3649,    0,    1,    2,    3,    4],\n",
       "        [3646, 3647, 3648, 3649, 3649, 3649, 3649, 3649, 3649, 3649]],\n",
       "       dtype=torch.int32)"
      ]
     },
     "execution_count": 12,
     "metadata": {},
     "output_type": "execute_result"
    }
   ],
   "source": [
    "indices[:, 3645: 3655]"
   ]
  },
  {
   "cell_type": "code",
   "execution_count": 13,
   "metadata": {},
   "outputs": [
    {
     "data": {
      "text/plain": [
       "tensor([[3645, 3646, 3647, 3648, 3649],\n",
       "        [3649, 3649, 3649, 3649, 3649]], dtype=torch.int32)"
      ]
     },
     "execution_count": 13,
     "metadata": {},
     "output_type": "execute_result"
    }
   ],
   "source": [
    "indices[:, 7295:]"
   ]
  },
  {
   "cell_type": "code",
   "execution_count": 14,
   "metadata": {},
   "outputs": [],
   "source": [
    "values1 = [p[s-1].item() for s in S]\n",
    "values1[-1] = 1\n",
    "values1[-2] = 1\n",
    "values2 = [1 - p[s-1].item() for s in S]\n",
    "values2[-1] = 0\n",
    "values2[-2] = 0"
   ]
  },
  {
   "cell_type": "code",
   "execution_count": 15,
   "metadata": {},
   "outputs": [],
   "source": [
    "values = np.append(np.array(values1), np.array(values2))\n",
    "values = values.reshape(1, 7300)"
   ]
  },
  {
   "cell_type": "code",
   "execution_count": 16,
   "metadata": {},
   "outputs": [
    {
     "data": {
      "text/plain": [
       "array([[4.3836e-03, 3.2877e-03, 2.1918e-03, 1.0000e+00, 1.0000e+00,\n",
       "        1.0000e-05, 2.0000e-05, 3.0000e-05, 4.0000e-05, 5.0000e-05]])"
      ]
     },
     "execution_count": 16,
     "metadata": {},
     "output_type": "execute_result"
    }
   ],
   "source": [
    "values[:, 3645 : 3655]"
   ]
  },
  {
   "cell_type": "code",
   "execution_count": 17,
   "metadata": {},
   "outputs": [
    {
     "data": {
      "text/plain": [
       "tensor(indices=tensor([[   0,    1,    2,  ..., 3647, 3648, 3649],\n",
       "                       [   1,    2,    3,  ..., 3649, 3649, 3649]]),\n",
       "       values=tensor([[1.0000],\n",
       "                      [1.0000],\n",
       "                      [1.0000],\n",
       "                      ...,\n",
       "                      [0.9978],\n",
       "                      [0.0000],\n",
       "                      [0.0000]]),\n",
       "       size=(3650, 3650, 1), nnz=7300, dtype=torch.float64,\n",
       "       layout=torch.sparse_coo)"
      ]
     },
     "execution_count": 17,
     "metadata": {},
     "output_type": "execute_result"
    }
   ],
   "source": [
    "P_action1 = to.sparse_coo_tensor(indices, values.reshape(7300, 1))\n",
    "P_action1"
   ]
  },
  {
   "cell_type": "code",
   "execution_count": 18,
   "metadata": {},
   "outputs": [
    {
     "data": {
      "text/plain": [
       "tensor([[0.0000e+00, 9.9999e-01, 0.0000e+00,  ..., 0.0000e+00, 0.0000e+00,\n",
       "         1.0000e-05],\n",
       "        [0.0000e+00, 0.0000e+00, 9.9998e-01,  ..., 0.0000e+00, 0.0000e+00,\n",
       "         2.0000e-05],\n",
       "        [0.0000e+00, 0.0000e+00, 0.0000e+00,  ..., 0.0000e+00, 0.0000e+00,\n",
       "         3.0000e-05],\n",
       "        ...,\n",
       "        [0.0000e+00, 0.0000e+00, 0.0000e+00,  ..., 0.0000e+00, 2.1918e-03,\n",
       "         9.9781e-01],\n",
       "        [0.0000e+00, 0.0000e+00, 0.0000e+00,  ..., 0.0000e+00, 0.0000e+00,\n",
       "         1.0000e+00],\n",
       "        [0.0000e+00, 0.0000e+00, 0.0000e+00,  ..., 0.0000e+00, 0.0000e+00,\n",
       "         1.0000e+00]], dtype=torch.float64)"
      ]
     },
     "execution_count": 18,
     "metadata": {},
     "output_type": "execute_result"
    }
   ],
   "source": [
    "P_action1.to_dense().reshape(3650, 3650)"
   ]
  },
  {
   "cell_type": "code",
   "execution_count": 19,
   "metadata": {},
   "outputs": [],
   "source": [
    "i = 0\n",
    "for row in P_action1.to_dense().reshape(3650, 3650):\n",
    "    if sum(row) != 1:\n",
    "        print('row {} does not sum to 1.'.format(i))\n",
    "        \n",
    "    i += 1"
   ]
  },
  {
   "cell_type": "code",
   "execution_count": 20,
   "metadata": {},
   "outputs": [
    {
     "data": {
      "text/plain": [
       "tensor(indices=tensor([[   0,    1,    2,  ..., 3647, 3648, 3649],\n",
       "                       [3649, 3649, 3649,  ..., 3649, 3649, 3649]]),\n",
       "       values=tensor([[1.],\n",
       "                      [1.],\n",
       "                      [1.],\n",
       "                      ...,\n",
       "                      [1.],\n",
       "                      [1.],\n",
       "                      [1.]]),\n",
       "       size=(3650, 3650, 1), nnz=3650, layout=torch.sparse_coo)"
      ]
     },
     "execution_count": 20,
     "metadata": {},
     "output_type": "execute_result"
    }
   ],
   "source": [
    "# BUILD ACTION 121 : purchase oldest car possible.\n",
    "indices = to.zeros(2, 3650)\n",
    "for s in S:\n",
    "    indices[0, s - 1] = s - 1\n",
    "    indices[1, s - 1] = M - 1\n",
    "\n",
    "values = to.ones(3650, 1)\n",
    "P_actionlast = to.sparse_coo_tensor(indices, values)\n",
    "P_actionlast"
   ]
  },
  {
   "cell_type": "code",
   "execution_count": 22,
   "metadata": {},
   "outputs": [],
   "source": [
    "i = 0\n",
    "for row in P_actionlast.to_dense().reshape(3650, 3650):\n",
    "    if sum(row) != 1:\n",
    "        print('row {} does not sum to 1.'.format(i))\n",
    "        \n",
    "    i += 1"
   ]
  },
  {
   "cell_type": "code",
   "execution_count": 23,
   "metadata": {},
   "outputs": [
    {
     "data": {
      "text/plain": [
       "torch.Size([3648, 2, 7300])"
      ]
     },
     "execution_count": 23,
     "metadata": {},
     "output_type": "execute_result"
    }
   ],
   "source": [
    "# Build actions 2 through 3649.\n",
    "# 2 non-zero elements each row.\n",
    "indices = to.zeros(3648, 2, 3650*2)\n",
    "indices.shape"
   ]
  },
  {
   "cell_type": "code",
   "execution_count": 27,
   "metadata": {},
   "outputs": [
    {
     "name": "stderr",
     "output_type": "stream",
     "text": [
      "building first index set: 100%|██████████| 3647/3647 [03:48<00:00, 15.95it/s]\n"
     ]
    }
   ],
   "source": [
    "for a in tqdm.tqdm(range(2, 3649), desc='building first index set'):\n",
    "    for s in S:\n",
    "        indices[a-1, 0, s - 1] = s - 1\n",
    "        indices[a-1, 1, s - 1] = a - 2 + 1"
   ]
  },
  {
   "cell_type": "code",
   "execution_count": 22,
   "metadata": {},
   "outputs": [],
   "source": [
    "indices = to.zeros(2, 3650*2)\n",
    "a = 2\n",
    "for s in S:\n",
    "    indices[0, s-1] = s - 1\n",
    "    indices[1, s-1] = a - 2 + 1\n",
    "\n",
    "for s in S:\n",
    "    indices[0, s+3650-1] = s - 1\n",
    "    indices[1, s+3650-1] = M - 1\n",
    "\n",
    "values1 = to.from_numpy(np.repeat(p[a-2].item(), 3650))\n",
    "values2 = to.from_numpy(np.repeat(1-p[a-2].item(), 3650))"
   ]
  },
  {
   "cell_type": "code",
   "execution_count": 25,
   "metadata": {},
   "outputs": [
    {
     "data": {
      "text/plain": [
       "(7300,)"
      ]
     },
     "execution_count": 25,
     "metadata": {},
     "output_type": "execute_result"
    }
   ],
   "source": [
    "values = np.append(values1.numpy(), values2.numpy())\n",
    "values.shape"
   ]
  },
  {
   "cell_type": "code",
   "execution_count": 26,
   "metadata": {},
   "outputs": [
    {
     "data": {
      "text/plain": [
       "tensor(indices=tensor([[   0,    1,    2,  ..., 3647, 3648, 3649],\n",
       "                       [   1,    1,    1,  ..., 3649, 3649, 3649]]),\n",
       "       values=tensor([[9.9999e-01],\n",
       "                      [9.9999e-01],\n",
       "                      [9.9999e-01],\n",
       "                      ...,\n",
       "                      [1.0000e-05],\n",
       "                      [1.0000e-05],\n",
       "                      [1.0000e-05]]),\n",
       "       size=(3650, 3650, 1), nnz=7300, dtype=torch.float64,\n",
       "       layout=torch.sparse_coo)"
      ]
     },
     "execution_count": 26,
     "metadata": {},
     "output_type": "execute_result"
    }
   ],
   "source": [
    "P_actionN = to.sparse_coo_tensor(indices, values.reshape(7300, 1))\n",
    "P_actionN"
   ]
  },
  {
   "cell_type": "code",
   "execution_count": 27,
   "metadata": {},
   "outputs": [
    {
     "data": {
      "text/plain": [
       "7301"
      ]
     },
     "execution_count": 27,
     "metadata": {},
     "output_type": "execute_result"
    }
   ],
   "source": [
    "# First calculate how many non-zero elements are present in the transition probability matrix.\n",
    "# Actions 1 through M --> 2 non-zero element per row\n",
    "# Action M + 1 --> 1 non-zero element present\n",
    "nonzero = 0\n",
    "for a in A:\n",
    "    if a < M + 1:\n",
    "        nonzero += 2\n",
    "    else:\n",
    "        nonzero += 1\n",
    "\n",
    "nonzero"
   ]
  },
  {
   "cell_type": "code",
   "execution_count": 28,
   "metadata": {},
   "outputs": [],
   "source": [
    "# Pre-allocate the memory for indices and values vectors.\n",
    "indices = to.zeros(card_a, 2, nonzero*3650)"
   ]
  },
  {
   "cell_type": "code",
   "execution_count": null,
   "metadata": {},
   "outputs": [],
   "source": []
  }
 ],
 "metadata": {
  "interpreter": {
   "hash": "a93bdcbff66492aba46d19ba09ebee380b009279c95788f102524a0fb2f7612c"
  },
  "kernelspec": {
   "display_name": "Python 3.8.3 64-bit ('python-rl': venv)",
   "name": "python3"
  },
  "language_info": {
   "codemirror_mode": {
    "name": "ipython",
    "version": 3
   },
   "file_extension": ".py",
   "mimetype": "text/x-python",
   "name": "python",
   "nbconvert_exporter": "python",
   "pygments_lexer": "ipython3",
   "version": "3.8.3"
  },
  "orig_nbformat": 4
 },
 "nbformat": 4,
 "nbformat_minor": 2
}
